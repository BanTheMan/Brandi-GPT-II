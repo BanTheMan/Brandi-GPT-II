{
 "cells": [
  {
   "cell_type": "code",
   "execution_count": 1,
   "id": "b2ee21f4",
   "metadata": {},
   "outputs": [
    {
     "name": "stdout",
     "output_type": "stream",
     "text": [
      "Collecting tiktoken\n",
      "  Downloading tiktoken-0.9.0-cp312-cp312-win_amd64.whl.metadata (6.8 kB)\n",
      "Collecting regex>=2022.1.18 (from tiktoken)\n",
      "  Downloading regex-2024.11.6-cp312-cp312-win_amd64.whl.metadata (41 kB)\n",
      "     ---------------------------------------- 0.0/41.5 kB ? eta -:--:--\n",
      "     --------- ------------------------------ 10.2/41.5 kB ? eta -:--:--\n",
      "     ---------------------------- --------- 30.7/41.5 kB 325.1 kB/s eta 0:00:01\n",
      "     -------------------------------------- 41.5/41.5 kB 333.1 kB/s eta 0:00:00\n",
      "Collecting requests>=2.26.0 (from tiktoken)\n",
      "  Downloading requests-2.32.4-py3-none-any.whl.metadata (4.9 kB)\n",
      "Collecting charset_normalizer<4,>=2 (from requests>=2.26.0->tiktoken)\n",
      "  Downloading charset_normalizer-3.4.2-cp312-cp312-win_amd64.whl.metadata (36 kB)\n",
      "Collecting idna<4,>=2.5 (from requests>=2.26.0->tiktoken)\n",
      "  Downloading idna-3.10-py3-none-any.whl.metadata (10 kB)\n",
      "Collecting urllib3<3,>=1.21.1 (from requests>=2.26.0->tiktoken)\n",
      "  Downloading urllib3-2.5.0-py3-none-any.whl.metadata (6.5 kB)\n",
      "Collecting certifi>=2017.4.17 (from requests>=2.26.0->tiktoken)\n",
      "  Downloading certifi-2025.6.15-py3-none-any.whl.metadata (2.4 kB)\n",
      "Downloading tiktoken-0.9.0-cp312-cp312-win_amd64.whl (894 kB)\n",
      "   ---------------------------------------- 0.0/894.9 kB ? eta -:--:--\n",
      "   ---- ----------------------------------- 92.2/894.9 kB 1.7 MB/s eta 0:00:01\n",
      "   ------ --------------------------------- 153.6/894.9 kB 1.8 MB/s eta 0:00:01\n",
      "   ---------- ----------------------------- 225.3/894.9 kB 1.5 MB/s eta 0:00:01\n",
      "   -------------- ------------------------- 317.4/894.9 kB 1.6 MB/s eta 0:00:01\n",
      "   ----------------- ---------------------- 389.1/894.9 kB 1.7 MB/s eta 0:00:01\n",
      "   ------------------- -------------------- 440.3/894.9 kB 1.6 MB/s eta 0:00:01\n",
      "   ----------------------- ---------------- 522.2/894.9 kB 1.6 MB/s eta 0:00:01\n",
      "   ------------------------- -------------- 563.2/894.9 kB 1.5 MB/s eta 0:00:01\n",
      "   ---------------------------- ----------- 645.1/894.9 kB 1.6 MB/s eta 0:00:01\n",
      "   ------------------------------- -------- 696.3/894.9 kB 1.6 MB/s eta 0:00:01\n",
      "   -------------------------------- ------- 716.8/894.9 kB 1.4 MB/s eta 0:00:01\n",
      "   -------------------------------- ------- 727.0/894.9 kB 1.3 MB/s eta 0:00:01\n",
      "   --------------------------------- ------ 747.5/894.9 kB 1.2 MB/s eta 0:00:01\n",
      "   ---------------------------------- ----- 768.0/894.9 kB 1.2 MB/s eta 0:00:01\n",
      "   ----------------------------------- ---- 798.7/894.9 kB 1.2 MB/s eta 0:00:01\n",
      "   ------------------------------------ --- 809.0/894.9 kB 1.1 MB/s eta 0:00:01\n",
      "   ------------------------------------- -- 849.9/894.9 kB 1.1 MB/s eta 0:00:01\n",
      "   -------------------------------------- - 860.2/894.9 kB 1.0 MB/s eta 0:00:01\n",
      "   -------------------------------------- - 860.2/894.9 kB 1.0 MB/s eta 0:00:01\n",
      "   -------------------------------------- - 860.2/894.9 kB 1.0 MB/s eta 0:00:01\n",
      "   -------------------------------------  890.9/894.9 kB 923.1 kB/s eta 0:00:01\n",
      "   -------------------------------------- 894.9/894.9 kB 898.1 kB/s eta 0:00:00\n",
      "Downloading regex-2024.11.6-cp312-cp312-win_amd64.whl (273 kB)\n",
      "   ---------------------------------------- 0.0/273.6 kB ? eta -:--:--\n",
      "   ---------------------------------------- 0.0/273.6 kB ? eta -:--:--\n",
      "   - -------------------------------------- 10.2/273.6 kB ? eta -:--:--\n",
      "   ---- ---------------------------------- 30.7/273.6 kB 325.1 kB/s eta 0:00:01\n",
      "   ----- --------------------------------- 41.0/273.6 kB 279.3 kB/s eta 0:00:01\n",
      "   -------- ------------------------------ 61.4/273.6 kB 326.1 kB/s eta 0:00:01\n",
      "   ---------- ---------------------------- 71.7/273.6 kB 326.8 kB/s eta 0:00:01\n",
      "   ------------- ------------------------- 92.2/273.6 kB 348.6 kB/s eta 0:00:01\n",
      "   ----------------- -------------------- 122.9/273.6 kB 379.3 kB/s eta 0:00:01\n",
      "   ----------------- -------------------- 122.9/273.6 kB 379.3 kB/s eta 0:00:01\n",
      "   ------------------- ------------------ 143.4/273.6 kB 340.5 kB/s eta 0:00:01\n",
      "   --------------------- ---------------- 153.6/273.6 kB 327.3 kB/s eta 0:00:01\n",
      "   ------------------------- ------------ 184.3/273.6 kB 358.9 kB/s eta 0:00:01\n",
      "   -------------------------------------- 273.6/273.6 kB 481.4 kB/s eta 0:00:00\n",
      "Downloading requests-2.32.4-py3-none-any.whl (64 kB)\n",
      "   ---------------------------------------- 0.0/64.8 kB ? eta -:--:--\n",
      "   ------------------ --------------------- 30.7/64.8 kB 1.3 MB/s eta 0:00:01\n",
      "   ---------------------------------------- 64.8/64.8 kB 866.8 kB/s eta 0:00:00\n",
      "Downloading certifi-2025.6.15-py3-none-any.whl (157 kB)\n",
      "   ---------------------------------------- 0.0/157.7 kB ? eta -:--:--\n",
      "   ------------------------------- -------- 122.9/157.7 kB 3.6 MB/s eta 0:00:01\n",
      "   ---------------------------------------- 157.7/157.7 kB 3.2 MB/s eta 0:00:00\n",
      "Downloading charset_normalizer-3.4.2-cp312-cp312-win_amd64.whl (105 kB)\n",
      "   ---------------------------------------- 0.0/105.8 kB ? eta -:--:--\n",
      "   ---------------------------------------- 105.8/105.8 kB 6.4 MB/s eta 0:00:00\n",
      "Downloading idna-3.10-py3-none-any.whl (70 kB)\n",
      "   ---------------------------------------- 0.0/70.4 kB ? eta -:--:--\n",
      "   ---------------------------------- ----- 61.4/70.4 kB 1.7 MB/s eta 0:00:01\n",
      "   ---------------------------------------- 70.4/70.4 kB 1.3 MB/s eta 0:00:00\n",
      "Downloading urllib3-2.5.0-py3-none-any.whl (129 kB)\n",
      "   ---------------------------------------- 0.0/129.8 kB ? eta -:--:--\n",
      "   ------------------------------------- -- 122.9/129.8 kB 3.5 MB/s eta 0:00:01\n",
      "   ---------------------------------------- 129.8/129.8 kB 2.5 MB/s eta 0:00:00\n",
      "Installing collected packages: urllib3, regex, idna, charset_normalizer, certifi, requests, tiktoken\n",
      "Successfully installed certifi-2025.6.15 charset_normalizer-3.4.2 idna-3.10 regex-2024.11.6 requests-2.32.4 tiktoken-0.9.0 urllib3-2.5.0\n",
      "Note: you may need to restart the kernel to use updated packages.\n"
     ]
    },
    {
     "name": "stderr",
     "output_type": "stream",
     "text": [
      "\n",
      "[notice] A new release of pip is available: 24.0 -> 25.1.1\n",
      "[notice] To update, run: python.exe -m pip install --upgrade pip\n"
     ]
    }
   ],
   "source": [
    "%pip install tiktoken"
   ]
  },
  {
   "cell_type": "code",
   "execution_count": 2,
   "id": "e1e9b322",
   "metadata": {},
   "outputs": [
    {
     "name": "stdout",
     "output_type": "stream",
     "text": [
      "tiktoken version: 0.9.0\n"
     ]
    }
   ],
   "source": [
    "from importlib.metadata import version\n",
    "import tiktoken\n",
    "print(\"tiktoken version:\", version(\"tiktoken\"))"
   ]
  },
  {
   "cell_type": "code",
   "execution_count": null,
   "id": "028d093d",
   "metadata": {},
   "outputs": [],
   "source": [
    "# Use tiktoken BPE tokenizer\n",
    "tokenizer = tiktoken.get_encoding(\"gpt2\")"
   ]
  },
  {
   "cell_type": "code",
   "execution_count": null,
   "id": "03a3aa16",
   "metadata": {},
   "outputs": [
    {
     "name": "stdout",
     "output_type": "stream",
     "text": [
      "[15496, 11, 466, 345, 588, 8887, 30, 220, 50256, 554, 262, 4252, 18250, 8812, 2114, 1659, 617, 34680, 27271, 13]\n"
     ]
    }
   ],
   "source": [
    "# Encode\n",
    "text = (\n",
    "    \"Hello, do you like tea? <|endoftext|> In the sunlit terraces\"\n",
    "    \"of someunknownPlace.\"\n",
    ")\n",
    "integers = tokenizer.encode(text, allowed_special={\"<|endoftext|>\"})\n",
    "print(integers)"
   ]
  },
  {
   "cell_type": "code",
   "execution_count": 5,
   "id": "7569ae9b",
   "metadata": {},
   "outputs": [
    {
     "name": "stdout",
     "output_type": "stream",
     "text": [
      "Hello, do you like tea? <|endoftext|> In the sunlit terracesof someunknownPlace.\n"
     ]
    }
   ],
   "source": [
    "# Decode\n",
    "strings = tokenizer.decode(integers)\n",
    "print(strings)"
   ]
  },
  {
   "cell_type": "markdown",
   "id": "af1b8eaf",
   "metadata": {},
   "source": [
    "### Implementing a DataLoader with a sliding window"
   ]
  },
  {
   "cell_type": "code",
   "execution_count": null,
   "id": "1a4a3f16",
   "metadata": {},
   "outputs": [
    {
     "name": "stdout",
     "output_type": "stream",
     "text": [
      "5145\n"
     ]
    }
   ],
   "source": [
    "# Read & encode text\n",
    "with open(\"the-verdict.txt\", \"r\", encoding=\"utf-8\") as f:\n",
    "    raw_text = f.read()\n",
    "\n",
    "enc_text = tokenizer.encode(raw_text)\n",
    "print(len(enc_text))"
   ]
  },
  {
   "cell_type": "code",
   "execution_count": 7,
   "id": "e5d4a3a8",
   "metadata": {},
   "outputs": [],
   "source": [
    "# Remove some tokens for demonstration\n",
    "enc_sample = enc_text[50:]"
   ]
  },
  {
   "cell_type": "code",
   "execution_count": 9,
   "id": "db2586f5",
   "metadata": {},
   "outputs": [
    {
     "name": "stdout",
     "output_type": "stream",
     "text": [
      "x: [290, 4920, 2241, 287]\n",
      "y:      [4920, 2241, 287, 257]\n"
     ]
    }
   ],
   "source": [
    "# Create input-target pairs\n",
    "context_size = 4\n",
    "x = enc_sample[:context_size]\n",
    "y = enc_sample[1:context_size+1] # target is shifted\n",
    "print(f\"x: {x}\")\n",
    "print(f\"y:      {y}\")"
   ]
  },
  {
   "cell_type": "code",
   "execution_count": 10,
   "id": "40a3e320",
   "metadata": {},
   "outputs": [
    {
     "name": "stdout",
     "output_type": "stream",
     "text": [
      "[290] ----> 4920\n",
      "[290, 4920] ----> 2241\n",
      "[290, 4920, 2241] ----> 287\n",
      "[290, 4920, 2241, 287] ----> 257\n"
     ]
    }
   ],
   "source": [
    "# Create next-word prediction task\n",
    "for i in range(1, context_size+1):\n",
    "    context = enc_sample[:i]\n",
    "    desired = enc_sample[i]\n",
    "    print(context, \"---->\", desired)"
   ]
  },
  {
   "cell_type": "code",
   "execution_count": 11,
   "id": "ac2a92c7",
   "metadata": {},
   "outputs": [
    {
     "name": "stdout",
     "output_type": "stream",
     "text": [
      " and ---->  established\n",
      " and established ---->  himself\n",
      " and established himself ---->  in\n",
      " and established himself in ---->  a\n"
     ]
    }
   ],
   "source": [
    "# Same but with text\n",
    "for i in range(1, context_size+1):\n",
    "    context = enc_sample[:i]\n",
    "    desired = enc_sample[i]\n",
    "    print(tokenizer.decode(context), \"---->\", tokenizer.decode([desired]))"
   ]
  }
 ],
 "metadata": {
  "kernelspec": {
   "display_name": ".venv",
   "language": "python",
   "name": "python3"
  },
  "language_info": {
   "codemirror_mode": {
    "name": "ipython",
    "version": 3
   },
   "file_extension": ".py",
   "mimetype": "text/x-python",
   "name": "python",
   "nbconvert_exporter": "python",
   "pygments_lexer": "ipython3",
   "version": "3.12.3"
  }
 },
 "nbformat": 4,
 "nbformat_minor": 5
}
